{
  "nbformat": 4,
  "nbformat_minor": 0,
  "metadata": {
    "colab": {
      "provenance": [],
      "mount_file_id": "1cH3WKERBv7n6aI_y53XQvch0-2m9hcMy",
      "authorship_tag": "ABX9TyOMxLrnmcy+RFBN0GdGNrjx",
      "include_colab_link": true
    },
    "kernelspec": {
      "name": "python3",
      "display_name": "Python 3"
    },
    "language_info": {
      "name": "python"
    }
  },
  "cells": [
    {
      "cell_type": "markdown",
      "metadata": {
        "id": "view-in-github",
        "colab_type": "text"
      },
      "source": [
        "<a href=\"https://colab.research.google.com/github/sanaaria/Ann/blob/main/AnnHW05.ipynb\" target=\"_parent\"><img src=\"https://colab.research.google.com/assets/colab-badge.svg\" alt=\"Open In Colab\"/></a>"
      ]
    },
    {
      "cell_type": "markdown",
      "source": [
        "در اینجا تلاش کردم فایلو بخونم و هر خط رو بریزم توی یه لیست"
      ],
      "metadata": {
        "id": "K-zLQ3CBPuGE"
      }
    },
    {
      "cell_type": "code",
      "execution_count": 1,
      "metadata": {
        "id": "DhQ7cwcJwcUz"
      },
      "outputs": [],
      "source": [
        "with open('/content/drive/MyDrive/Persian-WikiText-1.txt/Persian-WikiText-1.txt') as f:\n",
        "    lines = [line.rstrip('\\n') for line in f]"
      ]
    },
    {
      "cell_type": "markdown",
      "source": [
        "بعد اومدم کلمه کلمه کردم"
      ],
      "metadata": {
        "id": "Fdmkz-PTP54M"
      }
    },
    {
      "cell_type": "code",
      "source": [
        "words=[]\n",
        "for i in lines:\n",
        "  x=i.split(' ')\n",
        "  words.append(x)"
      ],
      "metadata": {
        "id": "eAB5yjPW2fPy"
      },
      "execution_count": 2,
      "outputs": []
    },
    {
      "cell_type": "code",
      "source": [
        "len(words)"
      ],
      "metadata": {
        "colab": {
          "base_uri": "https://localhost:8080/"
        },
        "id": "r1CEYp28_vwR",
        "outputId": "68f968e2-b1fb-4c5d-9cb6-ff5ac50f81e6"
      },
      "execution_count": 3,
      "outputs": [
        {
          "output_type": "execute_result",
          "data": {
            "text/plain": [
              "446023"
            ]
          },
          "metadata": {},
          "execution_count": 3
        }
      ]
    },
    {
      "cell_type": "markdown",
      "source": [
        "اینجا هرر خط رو 5 تا کلمه اولشو ریختم تو ایکس بقیشو ریختم تو وای"
      ],
      "metadata": {
        "id": "0FGaw8LdP-BV"
      }
    },
    {
      "cell_type": "code",
      "source": [
        "dataset=[]\n",
        "x=[]\n",
        "y=[]\n",
        "for i in range(len(words)):\n",
        "   x.append(words[i][:5])\n",
        "   y.append(words[i][5:])"
      ],
      "metadata": {
        "id": "t_NyxW2L3_gC"
      },
      "execution_count": 4,
      "outputs": []
    },
    {
      "cell_type": "code",
      "source": [
        "words[8]"
      ],
      "metadata": {
        "colab": {
          "base_uri": "https://localhost:8080/"
        },
        "id": "JTAEwU3x9t9I",
        "outputId": "a8e72e8d-75a8-448e-b972-f2536be3295c"
      },
      "execution_count": 5,
      "outputs": [
        {
          "output_type": "execute_result",
          "data": {
            "text/plain": [
              "['ویکی',\n",
              " 'پدیا',\n",
              " '(کوته',\n",
              " 'نوشت',\n",
              " 'به',\n",
              " 'صورت',\n",
              " '«وپ»',\n",
              " 'و',\n",
              " '«WP»)',\n",
              " 'یک',\n",
              " 'دانشنامه',\n",
              " 'برخط',\n",
              " 'چندزبانه',\n",
              " 'مبتنی',\n",
              " 'بر',\n",
              " 'وب',\n",
              " 'با',\n",
              " 'محتوای',\n",
              " 'آزاد',\n",
              " 'و',\n",
              " 'همکاری',\n",
              " 'باز',\n",
              " 'است',\n",
              " 'که',\n",
              " 'با',\n",
              " 'همکاری',\n",
              " 'افراد',\n",
              " 'داوطلب',\n",
              " 'نوشته',\n",
              " 'می',\n",
              " 'شود',\n",
              " 'و',\n",
              " 'هر',\n",
              " 'کسی',\n",
              " 'که',\n",
              " 'به',\n",
              " 'اینترنت',\n",
              " 'و',\n",
              " 'وب',\n",
              " 'دسترسی',\n",
              " 'داشته',\n",
              " 'باشد',\n",
              " 'می',\n",
              " 'تواند',\n",
              " 'مقالات',\n",
              " 'آن',\n",
              " 'را',\n",
              " 'ببیند',\n",
              " 'و',\n",
              " 'ویرایش',\n",
              " 'کند.',\n",
              " 'نام',\n",
              " 'ویکی',\n",
              " 'پدیا',\n",
              " 'واژه',\n",
              " 'ای',\n",
              " 'ترکیبی',\n",
              " 'است',\n",
              " 'که',\n",
              " 'از',\n",
              " 'واژه',\n",
              " 'های',\n",
              " 'ویکی',\n",
              " '(وبگاه',\n",
              " 'مشارکتی)',\n",
              " 'و',\n",
              " 'اِنسایکلوپدیا',\n",
              " '(Encyclopedia)',\n",
              " '(دانشنامه',\n",
              " 'یا',\n",
              " 'دائرةالمعارف)',\n",
              " 'گرفته',\n",
              " 'شده',\n",
              " 'است.',\n",
              " 'هدف',\n",
              " 'ویکی',\n",
              " 'پدیا',\n",
              " 'آفرینش',\n",
              " 'و',\n",
              " 'انتشار',\n",
              " 'جهانی',\n",
              " 'یک',\n",
              " 'دانشنامه',\n",
              " 'با',\n",
              " 'محتوای',\n",
              " 'آزاد',\n",
              " 'به',\n",
              " 'تمامی',\n",
              " 'زبان',\n",
              " 'های',\n",
              " 'زندهٔ',\n",
              " 'دنیا',\n",
              " 'است.']"
            ]
          },
          "metadata": {},
          "execution_count": 5
        }
      ]
    },
    {
      "cell_type": "code",
      "source": [
        "x[8]"
      ],
      "metadata": {
        "colab": {
          "base_uri": "https://localhost:8080/"
        },
        "id": "ENoxvCHp-TcN",
        "outputId": "c1440128-91e9-4926-896f-6fff6d64458d"
      },
      "execution_count": 6,
      "outputs": [
        {
          "output_type": "execute_result",
          "data": {
            "text/plain": [
              "['ویکی', 'پدیا', '(کوته', 'نوشت', 'به']"
            ]
          },
          "metadata": {},
          "execution_count": 6
        }
      ]
    },
    {
      "cell_type": "code",
      "source": [
        "y[8]"
      ],
      "metadata": {
        "colab": {
          "base_uri": "https://localhost:8080/"
        },
        "id": "PDN4I2RLBR9P",
        "outputId": "d643eabc-a842-430d-913f-7a07282395e8"
      },
      "execution_count": 7,
      "outputs": [
        {
          "output_type": "execute_result",
          "data": {
            "text/plain": [
              "['صورت',\n",
              " '«وپ»',\n",
              " 'و',\n",
              " '«WP»)',\n",
              " 'یک',\n",
              " 'دانشنامه',\n",
              " 'برخط',\n",
              " 'چندزبانه',\n",
              " 'مبتنی',\n",
              " 'بر',\n",
              " 'وب',\n",
              " 'با',\n",
              " 'محتوای',\n",
              " 'آزاد',\n",
              " 'و',\n",
              " 'همکاری',\n",
              " 'باز',\n",
              " 'است',\n",
              " 'که',\n",
              " 'با',\n",
              " 'همکاری',\n",
              " 'افراد',\n",
              " 'داوطلب',\n",
              " 'نوشته',\n",
              " 'می',\n",
              " 'شود',\n",
              " 'و',\n",
              " 'هر',\n",
              " 'کسی',\n",
              " 'که',\n",
              " 'به',\n",
              " 'اینترنت',\n",
              " 'و',\n",
              " 'وب',\n",
              " 'دسترسی',\n",
              " 'داشته',\n",
              " 'باشد',\n",
              " 'می',\n",
              " 'تواند',\n",
              " 'مقالات',\n",
              " 'آن',\n",
              " 'را',\n",
              " 'ببیند',\n",
              " 'و',\n",
              " 'ویرایش',\n",
              " 'کند.',\n",
              " 'نام',\n",
              " 'ویکی',\n",
              " 'پدیا',\n",
              " 'واژه',\n",
              " 'ای',\n",
              " 'ترکیبی',\n",
              " 'است',\n",
              " 'که',\n",
              " 'از',\n",
              " 'واژه',\n",
              " 'های',\n",
              " 'ویکی',\n",
              " '(وبگاه',\n",
              " 'مشارکتی)',\n",
              " 'و',\n",
              " 'اِنسایکلوپدیا',\n",
              " '(Encyclopedia)',\n",
              " '(دانشنامه',\n",
              " 'یا',\n",
              " 'دائرةالمعارف)',\n",
              " 'گرفته',\n",
              " 'شده',\n",
              " 'است.',\n",
              " 'هدف',\n",
              " 'ویکی',\n",
              " 'پدیا',\n",
              " 'آفرینش',\n",
              " 'و',\n",
              " 'انتشار',\n",
              " 'جهانی',\n",
              " 'یک',\n",
              " 'دانشنامه',\n",
              " 'با',\n",
              " 'محتوای',\n",
              " 'آزاد',\n",
              " 'به',\n",
              " 'تمامی',\n",
              " 'زبان',\n",
              " 'های',\n",
              " 'زندهٔ',\n",
              " 'دنیا',\n",
              " 'است.']"
            ]
          },
          "metadata": {},
          "execution_count": 7
        }
      ]
    },
    {
      "cell_type": "markdown",
      "source": [
        "اینجا اومدم 5 تا کلمه اول هر خط رو بردم به عنوان اولی و بقیشو به عنوان دومی مثلا تارگته بردم توی یه دیتا ستی"
      ],
      "metadata": {
        "id": "ozMwEe2IQHAW"
      }
    },
    {
      "cell_type": "code",
      "source": [
        "for i in range(len(words)):\n",
        "  dataset.append([x[i],y[i]])"
      ],
      "metadata": {
        "id": "JCLvaVtPBTfp"
      },
      "execution_count": 8,
      "outputs": []
    },
    {
      "cell_type": "code",
      "source": [
        "dataset[0]"
      ],
      "metadata": {
        "colab": {
          "base_uri": "https://localhost:8080/"
        },
        "id": "aa-asGeGCJ5y",
        "outputId": "f41d4b0f-6ad3-446c-a0e6-14fff81b213c"
      },
      "execution_count": 9,
      "outputs": [
        {
          "output_type": "execute_result",
          "data": {
            "text/plain": [
              "[['عنوان', 'مقاله:', 'صفحهٔ', 'اصلی'], []]"
            ]
          },
          "metadata": {},
          "execution_count": 9
        }
      ]
    },
    {
      "cell_type": "code",
      "source": [
        "from sklearn.model_selection import train_test_split"
      ],
      "metadata": {
        "id": "vBkNq-rUNVHN"
      },
      "execution_count": 10,
      "outputs": []
    },
    {
      "cell_type": "markdown",
      "source": [
        "مثلا خواستم ترین و تست رو جدا کنم"
      ],
      "metadata": {
        "id": "FPZbBDAvQX_8"
      }
    },
    {
      "cell_type": "code",
      "source": [
        "train ,test= train_test_split(dataset, test_size=0.2)\n",
        "print(len(train))\n",
        "print(len(test))"
      ],
      "metadata": {
        "colab": {
          "base_uri": "https://localhost:8080/"
        },
        "id": "CzVA5gDLNM9v",
        "outputId": "6b874303-9998-4581-d59c-db87be1bebf9"
      },
      "execution_count": 11,
      "outputs": [
        {
          "output_type": "stream",
          "name": "stdout",
          "text": [
            "356818\n",
            "89205\n"
          ]
        }
      ]
    },
    {
      "cell_type": "code",
      "source": [
        "import torch\n",
        "device = torch.device('cuda:0' if torch.cuda.is_available() else 'cpu')"
      ],
      "metadata": {
        "id": "dDgCc-o4Nzed"
      },
      "execution_count": 12,
      "outputs": []
    },
    {
      "cell_type": "markdown",
      "source": [
        "اودم ببرم تو تنسور که گفت نمیشه دیگه واسه خودت هرکاری دلت خواست بکنی"
      ],
      "metadata": {
        "id": "ekdyU02pQcgE"
      }
    },
    {
      "cell_type": "code",
      "source": [
        "#trainset = torch.tensor(train, dtype=torch.float).to(device) \n",
        "#testset= torch.tensor(test, dtype=torch.float).to(device) "
      ],
      "metadata": {
        "id": "tne2K5LxNgfd"
      },
      "execution_count": 13,
      "outputs": []
    },
    {
      "cell_type": "code",
      "source": [
        "import os\n",
        "import torch\n",
        "import torchvision\n",
        "import tarfile\n",
        "from torchvision.datasets.utils import download_url\n",
        "from torch.utils.data import random_split"
      ],
      "metadata": {
        "id": "b0leLvAFIhdO"
      },
      "execution_count": 14,
      "outputs": []
    },
    {
      "cell_type": "markdown",
      "source": [
        "کار مثبتم این بود که شبکه rnn  رو کپی کردم"
      ],
      "metadata": {
        "id": "QnezGQFEQkv-"
      }
    },
    {
      "cell_type": "code",
      "source": [
        "import torch.nn as nn\n",
        "\n",
        "class RNN(nn.Module):\n",
        "    def __init__(self, input_size, hidden_size, output_size):\n",
        "        super(RNN, self).__init__()\n",
        "\n",
        "        self.hidden_size = hidden_size\n",
        "\n",
        "        self.i2h = nn.Linear(input_size + hidden_size, hidden_size)\n",
        "        self.i2o = nn.Linear(input_size + hidden_size, output_size)\n",
        "        self.softmax = nn.LogSoftmax(dim=1)\n",
        "\n",
        "    def forward(self, input, hidden):\n",
        "        combined = torch.cat((input, hidden), 1)\n",
        "        hidden = self.i2h(combined)\n",
        "        output = self.i2o(combined)\n",
        "        output = self.softmax(output)\n",
        "        return output, hidden\n",
        "\n",
        "    def initHidden(self):\n",
        "        return torch.zeros(1, self.hidden_size)\n",
        "\n"
      ],
      "metadata": {
        "id": "9O64Eyy1Ilab"
      },
      "execution_count": 15,
      "outputs": []
    },
    {
      "cell_type": "markdown",
      "source": [
        "نمیدونم پایینیه چیه ولی هرچی هست ارور میده 😅\n"
      ],
      "metadata": {
        "id": "SejfFhPUQqzT"
      }
    },
    {
      "cell_type": "code",
      "source": [
        "n_hidden = 64\n",
        "rnn = RNN(len(train), n_hidden, len(words))"
      ],
      "metadata": {
        "id": "FHOmoHVEJ9ox"
      },
      "execution_count": null,
      "outputs": []
    },
    {
      "cell_type": "code",
      "source": [],
      "metadata": {
        "id": "HlKxfxGDH1ns"
      },
      "execution_count": null,
      "outputs": []
    },
    {
      "cell_type": "code",
      "source": [],
      "metadata": {
        "id": "bQywBQqDMDHJ"
      },
      "execution_count": null,
      "outputs": []
    }
  ]
}