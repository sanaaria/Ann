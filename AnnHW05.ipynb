{
  "nbformat": 4,
  "nbformat_minor": 0,
  "metadata": {
    "colab": {
      "provenance": [],
      "mount_file_id": "1cH3WKERBv7n6aI_y53XQvch0-2m9hcMy",
      "authorship_tag": "ABX9TyPcfzNHHbbNh5cKayvf/+QV",
      "include_colab_link": true
    },
    "kernelspec": {
      "name": "python3",
      "display_name": "Python 3"
    },
    "language_info": {
      "name": "python"
    }
  },
  "cells": [
    {
      "cell_type": "markdown",
      "metadata": {
        "id": "view-in-github",
        "colab_type": "text"
      },
      "source": [
        "<a href=\"https://colab.research.google.com/github/sanaaria/Ann/blob/main/AnnHW05.ipynb\" target=\"_parent\"><img src=\"https://colab.research.google.com/assets/colab-badge.svg\" alt=\"Open In Colab\"/></a>"
      ]
    },
    {
      "cell_type": "code",
      "execution_count": 2,
      "metadata": {
        "id": "DhQ7cwcJwcUz"
      },
      "outputs": [],
      "source": [
        "with open('/content/drive/MyDrive/Persian-WikiText-1.txt/Persian-WikiText-1.txt') as f:\n",
        "    lines = [line.rstrip('\\n') for line in f]"
      ]
    },
    {
      "cell_type": "code",
      "source": [
        "words=[]\n",
        "for i in lines:\n",
        "  x=i.split(' ')\n",
        "  words.append(x)"
      ],
      "metadata": {
        "id": "eAB5yjPW2fPy"
      },
      "execution_count": 3,
      "outputs": []
    },
    {
      "cell_type": "code",
      "source": [
        "len(words)"
      ],
      "metadata": {
        "id": "r1CEYp28_vwR",
        "outputId": "0c2e90b2-5d16-49b6-be8d-f55d457a7e34",
        "colab": {
          "base_uri": "https://localhost:8080/"
        }
      },
      "execution_count": 4,
      "outputs": [
        {
          "output_type": "execute_result",
          "data": {
            "text/plain": [
              "446023"
            ]
          },
          "metadata": {},
          "execution_count": 4
        }
      ]
    },
    {
      "cell_type": "code",
      "source": [
        "dataset=[]\n",
        "x=[]\n",
        "y=[]\n",
        "for i in range(len(words)):\n",
        "   x.append(words[i][:5])\n",
        "   y.append(words[i][5:])"
      ],
      "metadata": {
        "id": "t_NyxW2L3_gC"
      },
      "execution_count": 13,
      "outputs": []
    },
    {
      "cell_type": "code",
      "source": [
        "words[8]"
      ],
      "metadata": {
        "id": "JTAEwU3x9t9I",
        "outputId": "66b6a191-ac32-4c49-db46-2c79031bec6b",
        "colab": {
          "base_uri": "https://localhost:8080/"
        }
      },
      "execution_count": 21,
      "outputs": [
        {
          "output_type": "execute_result",
          "data": {
            "text/plain": [
              "['ویکی',\n",
              " 'پدیا',\n",
              " '(کوته',\n",
              " 'نوشت',\n",
              " 'به',\n",
              " 'صورت',\n",
              " '«وپ»',\n",
              " 'و',\n",
              " '«WP»)',\n",
              " 'یک',\n",
              " 'دانشنامه',\n",
              " 'برخط',\n",
              " 'چندزبانه',\n",
              " 'مبتنی',\n",
              " 'بر',\n",
              " 'وب',\n",
              " 'با',\n",
              " 'محتوای',\n",
              " 'آزاد',\n",
              " 'و',\n",
              " 'همکاری',\n",
              " 'باز',\n",
              " 'است',\n",
              " 'که',\n",
              " 'با',\n",
              " 'همکاری',\n",
              " 'افراد',\n",
              " 'داوطلب',\n",
              " 'نوشته',\n",
              " 'می',\n",
              " 'شود',\n",
              " 'و',\n",
              " 'هر',\n",
              " 'کسی',\n",
              " 'که',\n",
              " 'به',\n",
              " 'اینترنت',\n",
              " 'و',\n",
              " 'وب',\n",
              " 'دسترسی',\n",
              " 'داشته',\n",
              " 'باشد',\n",
              " 'می',\n",
              " 'تواند',\n",
              " 'مقالات',\n",
              " 'آن',\n",
              " 'را',\n",
              " 'ببیند',\n",
              " 'و',\n",
              " 'ویرایش',\n",
              " 'کند.',\n",
              " 'نام',\n",
              " 'ویکی',\n",
              " 'پدیا',\n",
              " 'واژه',\n",
              " 'ای',\n",
              " 'ترکیبی',\n",
              " 'است',\n",
              " 'که',\n",
              " 'از',\n",
              " 'واژه',\n",
              " 'های',\n",
              " 'ویکی',\n",
              " '(وبگاه',\n",
              " 'مشارکتی)',\n",
              " 'و',\n",
              " 'اِنسایکلوپدیا',\n",
              " '(Encyclopedia)',\n",
              " '(دانشنامه',\n",
              " 'یا',\n",
              " 'دائرةالمعارف)',\n",
              " 'گرفته',\n",
              " 'شده',\n",
              " 'است.',\n",
              " 'هدف',\n",
              " 'ویکی',\n",
              " 'پدیا',\n",
              " 'آفرینش',\n",
              " 'و',\n",
              " 'انتشار',\n",
              " 'جهانی',\n",
              " 'یک',\n",
              " 'دانشنامه',\n",
              " 'با',\n",
              " 'محتوای',\n",
              " 'آزاد',\n",
              " 'به',\n",
              " 'تمامی',\n",
              " 'زبان',\n",
              " 'های',\n",
              " 'زندهٔ',\n",
              " 'دنیا',\n",
              " 'است.']"
            ]
          },
          "metadata": {},
          "execution_count": 21
        }
      ]
    },
    {
      "cell_type": "code",
      "source": [
        "x[8]"
      ],
      "metadata": {
        "id": "ENoxvCHp-TcN",
        "outputId": "7c352ebe-ce38-4543-85c0-23af29b26142",
        "colab": {
          "base_uri": "https://localhost:8080/"
        }
      },
      "execution_count": 22,
      "outputs": [
        {
          "output_type": "execute_result",
          "data": {
            "text/plain": [
              "['ویکی', 'پدیا', '(کوته', 'نوشت', 'به']"
            ]
          },
          "metadata": {},
          "execution_count": 22
        }
      ]
    },
    {
      "cell_type": "code",
      "source": [
        "y[8]"
      ],
      "metadata": {
        "id": "PDN4I2RLBR9P",
        "outputId": "a3a5799c-fc96-45ed-fc68-49ff80bd292a",
        "colab": {
          "base_uri": "https://localhost:8080/"
        }
      },
      "execution_count": 23,
      "outputs": [
        {
          "output_type": "execute_result",
          "data": {
            "text/plain": [
              "['صورت',\n",
              " '«وپ»',\n",
              " 'و',\n",
              " '«WP»)',\n",
              " 'یک',\n",
              " 'دانشنامه',\n",
              " 'برخط',\n",
              " 'چندزبانه',\n",
              " 'مبتنی',\n",
              " 'بر',\n",
              " 'وب',\n",
              " 'با',\n",
              " 'محتوای',\n",
              " 'آزاد',\n",
              " 'و',\n",
              " 'همکاری',\n",
              " 'باز',\n",
              " 'است',\n",
              " 'که',\n",
              " 'با',\n",
              " 'همکاری',\n",
              " 'افراد',\n",
              " 'داوطلب',\n",
              " 'نوشته',\n",
              " 'می',\n",
              " 'شود',\n",
              " 'و',\n",
              " 'هر',\n",
              " 'کسی',\n",
              " 'که',\n",
              " 'به',\n",
              " 'اینترنت',\n",
              " 'و',\n",
              " 'وب',\n",
              " 'دسترسی',\n",
              " 'داشته',\n",
              " 'باشد',\n",
              " 'می',\n",
              " 'تواند',\n",
              " 'مقالات',\n",
              " 'آن',\n",
              " 'را',\n",
              " 'ببیند',\n",
              " 'و',\n",
              " 'ویرایش',\n",
              " 'کند.',\n",
              " 'نام',\n",
              " 'ویکی',\n",
              " 'پدیا',\n",
              " 'واژه',\n",
              " 'ای',\n",
              " 'ترکیبی',\n",
              " 'است',\n",
              " 'که',\n",
              " 'از',\n",
              " 'واژه',\n",
              " 'های',\n",
              " 'ویکی',\n",
              " '(وبگاه',\n",
              " 'مشارکتی)',\n",
              " 'و',\n",
              " 'اِنسایکلوپدیا',\n",
              " '(Encyclopedia)',\n",
              " '(دانشنامه',\n",
              " 'یا',\n",
              " 'دائرةالمعارف)',\n",
              " 'گرفته',\n",
              " 'شده',\n",
              " 'است.',\n",
              " 'هدف',\n",
              " 'ویکی',\n",
              " 'پدیا',\n",
              " 'آفرینش',\n",
              " 'و',\n",
              " 'انتشار',\n",
              " 'جهانی',\n",
              " 'یک',\n",
              " 'دانشنامه',\n",
              " 'با',\n",
              " 'محتوای',\n",
              " 'آزاد',\n",
              " 'به',\n",
              " 'تمامی',\n",
              " 'زبان',\n",
              " 'های',\n",
              " 'زندهٔ',\n",
              " 'دنیا',\n",
              " 'است.']"
            ]
          },
          "metadata": {},
          "execution_count": 23
        }
      ]
    },
    {
      "cell_type": "code",
      "source": [],
      "metadata": {
        "id": "JCLvaVtPBTfp"
      },
      "execution_count": null,
      "outputs": []
    }
  ]
}