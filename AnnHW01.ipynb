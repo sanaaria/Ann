{
  "nbformat": 4,
  "nbformat_minor": 0,
  "metadata": {
    "colab": {
      "provenance": [],
      "authorship_tag": "ABX9TyPxEUgoAT8JAIAGBvr+jB9Z",
      "include_colab_link": true
    },
    "kernelspec": {
      "name": "python3",
      "display_name": "Python 3"
    },
    "language_info": {
      "name": "python"
    },
    "gpuClass": "standard"
  },
  "cells": [
    {
      "cell_type": "markdown",
      "metadata": {
        "id": "view-in-github",
        "colab_type": "text"
      },
      "source": [
        "<a href=\"https://colab.research.google.com/github/sanaaria/Ann/blob/main/AnnHW01.ipynb\" target=\"_parent\"><img src=\"https://colab.research.google.com/assets/colab-badge.svg\" alt=\"Open In Colab\"/></a>"
      ]
    },
    {
      "cell_type": "code",
      "execution_count": 108,
      "metadata": {
        "id": "6Fsb1b2dfAHr"
      },
      "outputs": [],
      "source": [
        "\n",
        "import numpy as np\n",
        "import pandas as pd\n",
        "import matplotlib.pyplot as plt\n",
        "\n",
        "import torch\n",
        "import torch.nn as nn\n",
        "from torch.autograd import Variable\n",
        "\n",
        "import torchvision\n",
        "import torchvision.transforms as transforms\n",
        "from torch.utils.data import Dataset, DataLoader\n",
        "from copy import deepcopy\n",
        "\n",
        "import torch.nn.functional as F\n",
        "from torch import optim\n",
        "from torch.utils.data import TensorDataset\n",
        "import matplotlib.pyplot as plt\n",
        "from torch.utils.data import SubsetRandomSampler"
      ]
    },
    {
      "cell_type": "markdown",
      "source": [
        "اتصال دیوایس"
      ],
      "metadata": {
        "id": "8AlKC1J3t87e"
      }
    },
    {
      "cell_type": "code",
      "source": [
        "device = torch.device(\"cuda\" if torch.cuda.is_available() else \"cpu\")"
      ],
      "metadata": {
        "id": "eU-vNkgdifDO"
      },
      "execution_count": 109,
      "outputs": []
    },
    {
      "cell_type": "markdown",
      "source": [
        "ترین و تست را خواندن"
      ],
      "metadata": {
        "id": "qcT9e76iuATe"
      }
    },
    {
      "cell_type": "code",
      "source": [
        "trainset = torchvision.datasets.FashionMNIST(\"./data\", download = True ,  transform = transforms.Compose([transforms.ToTensor()]))\n",
        "testset = torchvision.datasets.FashionMNIST(\"./data\" , download = True , train=False, transform = transforms.Compose([transforms.ToTensor()]))\n",
        "\n",
        "# train_loader = torch.utils.data.DataLoader(trainset , batch_size=100, shuffle=True)\n",
        "# test_loader = torch.utils.data.DataLoader(testset , batch_size=100, shuffle=True)\n",
        " "
      ],
      "metadata": {
        "id": "XUkWGiYTfIbu"
      },
      "execution_count": 110,
      "outputs": []
    },
    {
      "cell_type": "markdown",
      "source": [
        "20 درصد ولید برمیداریم"
      ],
      "metadata": {
        "id": "8m4r5ec7uEON"
      }
    },
    {
      "cell_type": "markdown",
      "source": [
        "بچ سایز را 20 تایی گرفته و لودر را تعریف میکنیم"
      ],
      "metadata": {
        "id": "s36V0rqeuMC8"
      }
    },
    {
      "cell_type": "code",
      "source": [
        "valid_size=0.2\n",
        "train_length=len(trainset)\n",
        "\n",
        "indices=[i for i in range(train_length)]\n",
        "np.random.shuffle(indices)\n",
        "\n",
        "split=int(np.floor(valid_size*train_length))\n",
        "train_idx=indices[split:]\n",
        "valid_idx=indices[:split]\n",
        "\n",
        "\n",
        "train_sampler=SubsetRandomSampler(train_idx)\n",
        "valid_sampler=SubsetRandomSampler(valid_idx)\n",
        "\n",
        "num_workers=0\n",
        "batch_size=20\n",
        "train_loader=torch.utils.data.DataLoader(trainset,batch_size=batch_size,sampler=train_sampler,num_workers=num_workers)\n",
        "valid_loader=torch.utils.data.DataLoader(trainset,batch_size=batch_size,sampler=train_sampler,num_workers=num_workers)\n",
        "test_loader=torch.utils.data.DataLoader(trainset,batch_size=batch_size,num_workers=num_workers)\n",
        "\n",
        "# This is for debugging\n",
        "print(f\"Training data size : {train_idx.__len__()}, Validation data size : {valid_idx.__len__()}, Test data size : {test_loader.dataset.__len__()}\")"
      ],
      "metadata": {
        "colab": {
          "base_uri": "https://localhost:8080/"
        },
        "id": "SNCvxgMnfQhD",
        "outputId": "41b5e0ba-9126-4fa3-dbc8-fbaf85c2313e"
      },
      "execution_count": 111,
      "outputs": [
        {
          "output_type": "stream",
          "name": "stdout",
          "text": [
            "Training data size : 48000, Validation data size : 12000, Test data size : 60000\n"
          ]
        }
      ]
    },
    {
      "cell_type": "code",
      "source": [
        "# checking our data\n",
        "dataiter=iter(train_loader)\n",
        "images,labels=next(dataiter)\n",
        "print(type(images))\n",
        "print(images.shape)\n",
        "print(labels.shape)\n",
        "print(images, images.shape, len(images), images[0].shape)\n",
        "print()\n",
        "print(labels,labels.shape,len(labels))"
      ],
      "metadata": {
        "colab": {
          "base_uri": "https://localhost:8080/"
        },
        "id": "MsXVMOivmwjP",
        "outputId": "07a4e09a-846e-46a8-96aa-b18acf44858c"
      },
      "execution_count": 112,
      "outputs": [
        {
          "output_type": "stream",
          "name": "stdout",
          "text": [
            "<class 'torch.Tensor'>\n",
            "torch.Size([20, 1, 28, 28])\n",
            "torch.Size([20])\n",
            "tensor([[[[0.0000, 0.0000, 0.0000,  ..., 0.0000, 0.0000, 0.0000],\n",
            "          [0.0000, 0.0000, 0.0000,  ..., 0.0000, 0.0000, 0.0000],\n",
            "          [0.0000, 0.0000, 0.0000,  ..., 0.0000, 0.0000, 0.0000],\n",
            "          ...,\n",
            "          [0.0000, 0.0000, 0.0000,  ..., 0.0000, 0.0000, 0.0000],\n",
            "          [0.0000, 0.0000, 0.0000,  ..., 0.0000, 0.0000, 0.0000],\n",
            "          [0.0000, 0.0000, 0.0000,  ..., 0.0000, 0.0000, 0.0000]]],\n",
            "\n",
            "\n",
            "        [[[0.0000, 0.0000, 0.0000,  ..., 0.0000, 0.0000, 0.0000],\n",
            "          [0.0000, 0.0000, 0.0000,  ..., 0.0000, 0.0000, 0.0000],\n",
            "          [0.0000, 0.0000, 0.0000,  ..., 0.7333, 0.3255, 0.0000],\n",
            "          ...,\n",
            "          [0.1608, 0.8157, 0.7373,  ..., 0.9804, 0.9569, 0.0000],\n",
            "          [0.0000, 0.0000, 0.0000,  ..., 0.3961, 0.3529, 0.0000],\n",
            "          [0.0000, 0.0000, 0.0000,  ..., 0.0000, 0.0000, 0.0000]]],\n",
            "\n",
            "\n",
            "        [[[0.0000, 0.0000, 0.0000,  ..., 0.0000, 0.0000, 0.0000],\n",
            "          [0.0000, 0.0000, 0.0000,  ..., 0.0000, 0.0000, 0.0000],\n",
            "          [0.0000, 0.0000, 0.0000,  ..., 0.0000, 0.0000, 0.0000],\n",
            "          ...,\n",
            "          [0.0000, 0.0000, 0.0000,  ..., 0.0000, 0.0000, 0.0000],\n",
            "          [0.0000, 0.0000, 0.0000,  ..., 0.0000, 0.0000, 0.0000],\n",
            "          [0.0000, 0.0000, 0.0000,  ..., 0.0000, 0.0000, 0.0000]]],\n",
            "\n",
            "\n",
            "        ...,\n",
            "\n",
            "\n",
            "        [[[0.0000, 0.0000, 0.0000,  ..., 0.0000, 0.0000, 0.0039],\n",
            "          [0.0000, 0.0000, 0.0000,  ..., 0.2039, 0.0000, 0.0196],\n",
            "          [0.0000, 0.0000, 0.0000,  ..., 0.1686, 0.0000, 0.0078],\n",
            "          ...,\n",
            "          [0.0000, 0.4431, 0.8431,  ..., 0.5059, 0.0000, 0.0000],\n",
            "          [0.0000, 0.0000, 0.4667,  ..., 0.1804, 0.0000, 0.0039],\n",
            "          [0.0000, 0.0000, 0.0000,  ..., 0.0000, 0.0000, 0.0039]]],\n",
            "\n",
            "\n",
            "        [[[0.0000, 0.0000, 0.0000,  ..., 0.0000, 0.0000, 0.0000],\n",
            "          [0.0000, 0.0000, 0.0000,  ..., 0.0000, 0.0000, 0.0000],\n",
            "          [0.0000, 0.0000, 0.0000,  ..., 0.0000, 0.0000, 0.0000],\n",
            "          ...,\n",
            "          [0.0000, 0.0000, 0.0000,  ..., 0.0000, 0.0000, 0.0000],\n",
            "          [0.0000, 0.0000, 0.0000,  ..., 0.0000, 0.0000, 0.0000],\n",
            "          [0.0000, 0.0000, 0.0000,  ..., 0.0000, 0.0000, 0.0000]]],\n",
            "\n",
            "\n",
            "        [[[0.0000, 0.0000, 0.0000,  ..., 0.0000, 0.0000, 0.0000],\n",
            "          [0.0000, 0.0000, 0.0000,  ..., 0.0000, 0.0000, 0.0000],\n",
            "          [0.0000, 0.0000, 0.0000,  ..., 0.0000, 0.0000, 0.0000],\n",
            "          ...,\n",
            "          [0.0000, 0.0000, 0.0000,  ..., 0.0000, 0.0000, 0.0000],\n",
            "          [0.0000, 0.0000, 0.0000,  ..., 0.0000, 0.0000, 0.0000],\n",
            "          [0.0000, 0.0000, 0.0000,  ..., 0.0000, 0.0000, 0.0000]]]]) torch.Size([20, 1, 28, 28]) 20 torch.Size([1, 28, 28])\n",
            "\n",
            "tensor([7, 9, 1, 7, 1, 4, 6, 0, 9, 6, 9, 5, 2, 9, 0, 1, 7, 9, 2, 6]) torch.Size([20]) 20\n"
          ]
        }
      ]
    },
    {
      "cell_type": "markdown",
      "source": [
        "اسم گذاری روی لیبل ها میکنیم"
      ],
      "metadata": {
        "id": "Nla3sTMzuapV"
      }
    },
    {
      "cell_type": "code",
      "source": [
        "fashion_class={\n",
        "    0:\"T-shirt/top\",\n",
        "    1:\"Trouser\",\n",
        "    2:\"Pullover\",\n",
        "    3:\"Dress\",\n",
        "    4:\"Coat\",\n",
        "    5:\"Sandal\",\n",
        "    6:\"Shirt\",\n",
        "    7:\"Sneaker\",\n",
        "    8:\"Bag\",\n",
        "    9:\"Ankle boot\"\n",
        "}\n",
        "\n",
        "fig=plt.figure(figsize=(30,10))\n",
        "for i in range(len(labels)):\n",
        "    ax=fig.add_subplot(2,10,i+1,xticks=[],yticks=[])\n",
        "    plt.imshow(np.squeeze(images[i]),cmap=\"pink\")\n",
        "    ax.set_title(f\"{fashion_class[labels[i].item()]}({labels[i].item()})\")"
      ],
      "metadata": {
        "colab": {
          "base_uri": "https://localhost:8080/",
          "height": 430
        },
        "id": "8fFAAMFwn_ra",
        "outputId": "e7b95b98-12de-4bd6-c51f-a2b12b13f16d"
      },
      "execution_count": 113,
      "outputs": [
        {
          "output_type": "display_data",
          "data": {
            "text/plain": [
              "<Figure size 2160x720 with 20 Axes>"
            ],
            "image/png": "[encoded data removed]"
          },
          "metadata": {}
        }
      ]
    },
    {
      "cell_type": "markdown",
      "source": [
        "مدل را با 4 لایه تعریف میکنیم"
      ],
      "metadata": {
        "id": "GBv0d0aWu6El"
      }
    },
    {
      "cell_type": "code",
      "source": [
        "MLP4 = nn.Sequential(nn.Linear(784, 250),\n",
        "                           nn.ReLU(),\n",
        "                           nn.Linear(250, 100),\n",
        "                           nn.ReLU(),\n",
        "                           nn.Linear(100, 50),\n",
        "                           nn.ReLU(),\n",
        "                           nn.Linear(50, 10),\n",
        "                           nn.LogSoftmax(dim=1)\n",
        "                           )\n"
      ],
      "metadata": {
        "id": "3N-K2mG4gVOC"
      },
      "execution_count": 49,
      "outputs": []
    },
    {
      "cell_type": "markdown",
      "source": [
        "لاس و اپتیمایزر را تعریف میکنیم"
      ],
      "metadata": {
        "id": "RIXRDfgdu_mQ"
      }
    },
    {
      "cell_type": "code",
      "source": [
        "criterion = nn.CrossEntropyLoss()\n",
        "optimizer = torch.optim.Adam(MLP4.parameters(), lr = 0.0001)"
      ],
      "metadata": {
        "id": "3Fk4mBclghU-"
      },
      "execution_count": 50,
      "outputs": []
    },
    {
      "cell_type": "markdown",
      "source": [
        "تابعی برای ترین کردن مدل مینویسیم"
      ],
      "metadata": {
        "id": "_3hk7VURvF39"
      }
    },
    {
      "cell_type": "code",
      "source": [
        "def run_model(model, optimizer, epochs):\n",
        "  train_losses, valid_losses = [], []\n",
        "\n",
        "  for e in range(epochs):\n",
        "    running_loss = 0\n",
        "    for images, labels in train_loader:\n",
        "      images = images.view(images.shape[0], -1)\n",
        "      \n",
        "      optimizer.zero_grad()\n",
        "      \n",
        "      output = model.forward(images)\n",
        "      loss = criterion(output, labels)\n",
        "      loss.backward()\n",
        "      optimizer.step()\n",
        "      \n",
        "      running_loss += loss.item()\n",
        "    else:\n",
        "      valid_loss = 0\n",
        "      accuracy = 0\n",
        "      \n",
        "      with torch.no_grad():\n",
        "        model.eval()\n",
        "        \n",
        "        for images, labels in valid_loader:\n",
        "          images = images.view(images.shape[0], -1)\n",
        "          log_ps = model(images)\n",
        "          valid_loss += criterion(log_ps, labels)\n",
        "          \n",
        "          ps = torch.exp(log_ps)\n",
        "          top_p, top_class = ps.topk(1, dim = 1)\n",
        "          equals = top_class == labels.view(*top_class.shape)\n",
        "          accuracy += torch.mean(equals.type(torch.FloatTensor))\n",
        "      \n",
        "      model.train()\n",
        "      train_losses.append(running_loss/len(train_loader))\n",
        "      valid_losses.append(valid_loss/len(valid_loader))\n",
        "      \n",
        "      print(\"Epoch: {}/{}..\".format(e+1, epochs),\n",
        "            \"Training loss: {:.3f}..\".format(running_loss/len(train_loader)),\n",
        "            \"Test loss: {:.3f}..\".format(valid_loss/len(valid_loader)),\n",
        "            \"Test Accuracy: {:.3f}\".format(accuracy/len(valid_loader)))\n",
        "  return [train_losses, valid_losses]"
      ],
      "metadata": {
        "id": "2yM985O6hUV6"
      },
      "execution_count": 53,
      "outputs": []
    },
    {
      "cell_type": "code",
      "source": [
        "results = run_model(MLP4 , optimizer ,10)"
      ],
      "metadata": {
        "colab": {
          "base_uri": "https://localhost:8080/"
        },
        "id": "xhIg1_P9iQQR",
        "outputId": "e0268f06-92f2-4c7f-9877-fd05494411e9"
      },
      "execution_count": 54,
      "outputs": [
        {
          "output_type": "stream",
          "name": "stdout",
          "text": [
            "Epoch: 1/10.. Training loss: 0.485.. Test loss: 0.473.. Test Accuracy: 0.831\n",
            "Epoch: 2/10.. Training loss: 0.433.. Test loss: 0.416.. Test Accuracy: 0.852\n",
            "Epoch: 3/10.. Training loss: 0.405.. Test loss: 0.407.. Test Accuracy: 0.855\n",
            "Epoch: 4/10.. Training loss: 0.385.. Test loss: 0.369.. Test Accuracy: 0.867\n",
            "Epoch: 5/10.. Training loss: 0.368.. Test loss: 0.355.. Test Accuracy: 0.874\n",
            "Epoch: 6/10.. Training loss: 0.356.. Test loss: 0.333.. Test Accuracy: 0.882\n",
            "Epoch: 7/10.. Training loss: 0.342.. Test loss: 0.332.. Test Accuracy: 0.881\n",
            "Epoch: 8/10.. Training loss: 0.330.. Test loss: 0.318.. Test Accuracy: 0.886\n",
            "Epoch: 9/10.. Training loss: 0.320.. Test loss: 0.310.. Test Accuracy: 0.888\n",
            "Epoch: 10/10.. Training loss: 0.311.. Test loss: 0.311.. Test Accuracy: 0.887\n"
          ]
        }
      ]
    },
    {
      "cell_type": "markdown",
      "source": [
        "نمودار ترین لاس و ولید لاس را میکشیم تا اگر دچار اور فیت شدیم هم زود بفهمیم"
      ],
      "metadata": {
        "id": "7FreilYIvMTm"
      }
    },
    {
      "cell_type": "code",
      "source": [
        "plt.plot(results[0], label = \"Training loss\")\n",
        "plt.plot(results[1], label = \"Validation loss\")\n",
        "plt.legend(frameon = False)"
      ],
      "metadata": {
        "colab": {
          "base_uri": "https://localhost:8080/",
          "height": 282
        },
        "id": "D3McY0MgjJBB",
        "outputId": "c02af457-ab13-4a27-c5a4-32c1d925c0cc"
      },
      "execution_count": 55,
      "outputs": [
        {
          "output_type": "execute_result",
          "data": {
            "text/plain": [
              "<matplotlib.legend.Legend at 0x7f190286edf0>"
            ]
          },
          "metadata": {},
          "execution_count": 55
        },
        {
          "output_type": "display_data",
          "data": {
            "text/plain": [
              "<Figure size 432x288 with 1 Axes>"
            ],
            "image/png": "[encoded data removed]"
          },
          "metadata": {
            "needs_background": "light"
          }
        }
      ]
    },
    {
      "cell_type": "markdown",
      "source": [
        "مدل را با سه لایه مینویسیم"
      ],
      "metadata": {
        "id": "8i_7uQ12vVIt"
      }
    },
    {
      "cell_type": "code",
      "source": [
        "MLP3 = nn.Sequential(nn.Linear(784, 250),\n",
        "                           nn.ReLU(),\n",
        "                           nn.Linear(250, 100),\n",
        "                           nn.ReLU(),\n",
        "                           nn.Linear(100, 10),\n",
        "                           nn.LogSoftmax(dim=1)\n",
        "                           )"
      ],
      "metadata": {
        "id": "iR7mTPnZtQlH"
      },
      "execution_count": 56,
      "outputs": []
    },
    {
      "cell_type": "code",
      "source": [
        "criterion = nn.CrossEntropyLoss()\n",
        "optimizer = torch.optim.Adam(MLP3.parameters(), lr = 0.0001)"
      ],
      "metadata": {
        "id": "xW-zu_1kxDUN"
      },
      "execution_count": 66,
      "outputs": []
    },
    {
      "cell_type": "code",
      "source": [
        "results = run_model(MLP3 , optimizer ,10)"
      ],
      "metadata": {
        "colab": {
          "base_uri": "https://localhost:8080/"
        },
        "id": "iRUAl98ot17u",
        "outputId": "1a350dcb-7cbb-4a50-e65d-cf1a56583f76"
      },
      "execution_count": 67,
      "outputs": [
        {
          "output_type": "stream",
          "name": "stdout",
          "text": [
            "Epoch: 1/10.. Training loss: 0.703.. Test loss: 0.499.. Test Accuracy: 0.826\n",
            "Epoch: 2/10.. Training loss: 0.458.. Test loss: 0.506.. Test Accuracy: 0.809\n",
            "Epoch: 3/10.. Training loss: 0.414.. Test loss: 0.386.. Test Accuracy: 0.866\n",
            "Epoch: 4/10.. Training loss: 0.387.. Test loss: 0.367.. Test Accuracy: 0.871\n",
            "Epoch: 5/10.. Training loss: 0.367.. Test loss: 0.353.. Test Accuracy: 0.876\n",
            "Epoch: 6/10.. Training loss: 0.350.. Test loss: 0.349.. Test Accuracy: 0.877\n",
            "Epoch: 7/10.. Training loss: 0.337.. Test loss: 0.326.. Test Accuracy: 0.883\n",
            "Epoch: 8/10.. Training loss: 0.324.. Test loss: 0.318.. Test Accuracy: 0.885\n",
            "Epoch: 9/10.. Training loss: 0.313.. Test loss: 0.305.. Test Accuracy: 0.890\n",
            "Epoch: 10/10.. Training loss: 0.304.. Test loss: 0.287.. Test Accuracy: 0.898\n"
          ]
        }
      ]
    },
    {
      "cell_type": "code",
      "source": [
        "plt.plot(results[0], label = \"Training loss\")\n",
        "plt.plot(results[1], label = \"Validation loss\")\n",
        "plt.legend(frameon = False)"
      ],
      "metadata": {
        "colab": {
          "base_uri": "https://localhost:8080/",
          "height": 282
        },
        "id": "mm1GJV-Vt470",
        "outputId": "926840db-40cb-4812-caac-f52cf3add428"
      },
      "execution_count": 68,
      "outputs": [
        {
          "output_type": "execute_result",
          "data": {
            "text/plain": [
              "<matplotlib.legend.Legend at 0x7f1902564370>"
            ]
          },
          "metadata": {},
          "execution_count": 68
        },
        {
          "output_type": "display_data",
          "data": {
            "text/plain": [
              "<Figure size 432x288 with 1 Axes>"
            ],
            "image/png": "[encoded data removed]"
          },
          "metadata": {
            "needs_background": "light"
          }
        }
      ]
    },
    {
      "cell_type": "markdown",
      "source": [
        "مدل را با دو لایه مینویسیم"
      ],
      "metadata": {
        "id": "fr_0_jcHyau0"
      }
    },
    {
      "cell_type": "code",
      "source": [
        "MLP2 = nn.Sequential(nn.Linear(784, 250),\n",
        "                           nn.ReLU(),\n",
        "                           nn.Linear(250, 10),\n",
        "                           nn.LogSoftmax(dim=1)\n",
        "                           )"
      ],
      "metadata": {
        "id": "WIWxRkkjt7WL"
      },
      "execution_count": 73,
      "outputs": []
    },
    {
      "cell_type": "code",
      "source": [
        "criterion = nn.CrossEntropyLoss()\n",
        "optimizer = torch.optim.Adam(MLP2.parameters(), lr = 0.0001)"
      ],
      "metadata": {
        "id": "E394VTbZxSkX"
      },
      "execution_count": 74,
      "outputs": []
    },
    {
      "cell_type": "code",
      "source": [
        "results = run_model(MLP2 , optimizer ,10)"
      ],
      "metadata": {
        "colab": {
          "base_uri": "https://localhost:8080/"
        },
        "id": "YjoiZrtnwjlT",
        "outputId": "b0f3bed1-b3a1-4c9d-ad26-f18b747cc402"
      },
      "execution_count": 75,
      "outputs": [
        {
          "output_type": "stream",
          "name": "stdout",
          "text": [
            "Epoch: 1/10.. Training loss: 0.709.. Test loss: 0.515.. Test Accuracy: 0.827\n",
            "Epoch: 2/10.. Training loss: 0.480.. Test loss: 0.469.. Test Accuracy: 0.836\n",
            "Epoch: 3/10.. Training loss: 0.438.. Test loss: 0.415.. Test Accuracy: 0.857\n",
            "Epoch: 4/10.. Training loss: 0.413.. Test loss: 0.402.. Test Accuracy: 0.858\n",
            "Epoch: 5/10.. Training loss: 0.395.. Test loss: 0.382.. Test Accuracy: 0.866\n",
            "Epoch: 6/10.. Training loss: 0.379.. Test loss: 0.365.. Test Accuracy: 0.872\n",
            "Epoch: 7/10.. Training loss: 0.367.. Test loss: 0.355.. Test Accuracy: 0.874\n",
            "Epoch: 8/10.. Training loss: 0.356.. Test loss: 0.342.. Test Accuracy: 0.880\n",
            "Epoch: 9/10.. Training loss: 0.345.. Test loss: 0.332.. Test Accuracy: 0.883\n",
            "Epoch: 10/10.. Training loss: 0.337.. Test loss: 0.325.. Test Accuracy: 0.885\n"
          ]
        }
      ]
    },
    {
      "cell_type": "code",
      "source": [
        "plt.plot(results[0], label = \"Training loss\")\n",
        "plt.plot(results[1], label = \"Validation loss\")\n",
        "plt.legend(frameon = False)"
      ],
      "metadata": {
        "colab": {
          "base_uri": "https://localhost:8080/",
          "height": 282
        },
        "id": "Zjwgyi7cwl7q",
        "outputId": "7a333112-666b-4d55-c12d-08d47bec0ebe"
      },
      "execution_count": 76,
      "outputs": [
        {
          "output_type": "execute_result",
          "data": {
            "text/plain": [
              "<matplotlib.legend.Legend at 0x7f1902e582e0>"
            ]
          },
          "metadata": {},
          "execution_count": 76
        },
        {
          "output_type": "display_data",
          "data": {
            "text/plain": [
              "<Figure size 432x288 with 1 Axes>"
            ],
            "image/png": "[encoded data removed]"
          },
          "metadata": {
            "needs_background": "light"
          }
        }
      ]
    },
    {
      "cell_type": "markdown",
      "source": [
        "مدل را با 5 لایه بنویسیم"
      ],
      "metadata": {
        "id": "7QRbRppwyyk0"
      }
    },
    {
      "cell_type": "code",
      "source": [
        "MLP5 = nn.Sequential(nn.Linear(784, 250),\n",
        "                           nn.ReLU(),\n",
        "                           nn.Linear(250, 100),\n",
        "                           nn.ReLU(),\n",
        "                           nn.Linear(100, 100),\n",
        "                           nn.ReLU(),\n",
        "                           nn.Linear(100, 50),\n",
        "                           nn.ReLU(),\n",
        "                           nn.Linear(50, 10),\n",
        "                           nn.LogSoftmax(dim=1)\n",
        "                           )\n",
        "criterion = nn.CrossEntropyLoss()\n",
        "optimizer = torch.optim.Adam(MLP5.parameters(), lr = 0.0001)"
      ],
      "metadata": {
        "id": "ciJ5ZN5cy0o1"
      },
      "execution_count": 81,
      "outputs": []
    },
    {
      "cell_type": "code",
      "source": [
        "results = run_model(MLP5 , optimizer ,10)"
      ],
      "metadata": {
        "colab": {
          "base_uri": "https://localhost:8080/"
        },
        "id": "w_Wgv5l60sMV",
        "outputId": "4daebbe2-f240-46cf-bbe7-20c345575f9f"
      },
      "execution_count": 82,
      "outputs": [
        {
          "output_type": "stream",
          "name": "stdout",
          "text": [
            "Epoch: 1/10.. Training loss: 0.817.. Test loss: 0.544.. Test Accuracy: 0.806\n",
            "Epoch: 2/10.. Training loss: 0.504.. Test loss: 0.459.. Test Accuracy: 0.839\n",
            "Epoch: 3/10.. Training loss: 0.451.. Test loss: 0.436.. Test Accuracy: 0.844\n",
            "Epoch: 4/10.. Training loss: 0.420.. Test loss: 0.397.. Test Accuracy: 0.859\n",
            "Epoch: 5/10.. Training loss: 0.397.. Test loss: 0.397.. Test Accuracy: 0.861\n",
            "Epoch: 6/10.. Training loss: 0.377.. Test loss: 0.397.. Test Accuracy: 0.856\n",
            "Epoch: 7/10.. Training loss: 0.359.. Test loss: 0.346.. Test Accuracy: 0.873\n",
            "Epoch: 8/10.. Training loss: 0.346.. Test loss: 0.354.. Test Accuracy: 0.872\n",
            "Epoch: 9/10.. Training loss: 0.332.. Test loss: 0.315.. Test Accuracy: 0.886\n",
            "Epoch: 10/10.. Training loss: 0.321.. Test loss: 0.307.. Test Accuracy: 0.888\n"
          ]
        }
      ]
    },
    {
      "cell_type": "code",
      "source": [
        "plt.plot(results[0], label = \"Training loss\")\n",
        "plt.plot(results[1], label = \"Validation loss\")\n",
        "plt.legend(frameon = False)"
      ],
      "metadata": {
        "colab": {
          "base_uri": "https://localhost:8080/",
          "height": 282
        },
        "id": "9m5veY000wCN",
        "outputId": "b7bb43ff-d0d8-4b0a-d49e-269fad4c90c5"
      },
      "execution_count": 83,
      "outputs": [
        {
          "output_type": "execute_result",
          "data": {
            "text/plain": [
              "<matplotlib.legend.Legend at 0x7f1902fe1250>"
            ]
          },
          "metadata": {},
          "execution_count": 83
        },
        {
          "output_type": "display_data",
          "data": {
            "text/plain": [
              "<Figure size 432x288 with 1 Axes>"
            ],
            "image/png": "[encoded data removed]"
          },
          "metadata": {
            "needs_background": "light"
          }
        }
      ]
    },
    {
      "cell_type": "markdown",
      "source": [
        "کمی اورفیت مشاهده میشود"
      ],
      "metadata": {
        "id": "iPHwW0eR1tCf"
      }
    },
    {
      "cell_type": "markdown",
      "source": [
        "در این بین بهترین مدل ،با سه لایه بود که در زیر میبینیم"
      ],
      "metadata": {
        "id": "WKjMfaOm2GP0"
      }
    },
    {
      "cell_type": "code",
      "source": [
        "MLP3 = nn.Sequential(nn.Linear(784, 250),\n",
        "                           nn.ReLU(),\n",
        "                           nn.Linear(250, 100),\n",
        "                           nn.ReLU(),\n",
        "                           nn.Linear(100, 10),\n",
        "                           nn.LogSoftmax(dim=1)\n",
        "                           )\n",
        "criterion = nn.CrossEntropyLoss()\n",
        "optimizer = torch.optim.Adam(MLP3.parameters(), lr = 0.0001)\n",
        "results = run_model(MLP3 , optimizer ,10)\n"
      ],
      "metadata": {
        "colab": {
          "base_uri": "https://localhost:8080/"
        },
        "id": "apvDLbZi2Oqj",
        "outputId": "9a26d100-211f-420c-ea81-9df9e82fa28d"
      },
      "execution_count": 88,
      "outputs": [
        {
          "output_type": "stream",
          "name": "stdout",
          "text": [
            "Epoch: 1/10.. Training loss: 0.722.. Test loss: 0.500.. Test Accuracy: 0.824\n",
            "Epoch: 2/10.. Training loss: 0.467.. Test loss: 0.433.. Test Accuracy: 0.850\n",
            "Epoch: 3/10.. Training loss: 0.422.. Test loss: 0.410.. Test Accuracy: 0.856\n",
            "Epoch: 4/10.. Training loss: 0.396.. Test loss: 0.380.. Test Accuracy: 0.866\n",
            "Epoch: 5/10.. Training loss: 0.376.. Test loss: 0.367.. Test Accuracy: 0.871\n",
            "Epoch: 6/10.. Training loss: 0.358.. Test loss: 0.343.. Test Accuracy: 0.878\n",
            "Epoch: 7/10.. Training loss: 0.345.. Test loss: 0.328.. Test Accuracy: 0.883\n",
            "Epoch: 8/10.. Training loss: 0.331.. Test loss: 0.315.. Test Accuracy: 0.887\n",
            "Epoch: 9/10.. Training loss: 0.322.. Test loss: 0.316.. Test Accuracy: 0.886\n",
            "Epoch: 10/10.. Training loss: 0.311.. Test loss: 0.307.. Test Accuracy: 0.889\n"
          ]
        }
      ]
    },
    {
      "cell_type": "code",
      "source": [
        "plt.plot(results[0], label = \"Training loss\")\n",
        "plt.plot(results[1], label = \"Validation loss\")\n",
        "plt.legend(frameon = False)"
      ],
      "metadata": {
        "colab": {
          "base_uri": "https://localhost:8080/",
          "height": 282
        },
        "id": "lvzyewmq2hE1",
        "outputId": "b4bd7de1-87d3-4d3a-c7d7-e0e897e44cf3"
      },
      "execution_count": 89,
      "outputs": [
        {
          "output_type": "execute_result",
          "data": {
            "text/plain": [
              "<matplotlib.legend.Legend at 0x7f1900273f40>"
            ]
          },
          "metadata": {},
          "execution_count": 89
        },
        {
          "output_type": "display_data",
          "data": {
            "text/plain": [
              "<Figure size 432x288 with 1 Axes>"
            ],
            "image/png": "[encoded data removed]"
          },
          "metadata": {
            "needs_background": "light"
          }
        }
      ]
    },
    {
      "cell_type": "markdown",
      "source": [
        "drop out را افزوده و نتایج را مشاهده مینماییم"
      ],
      "metadata": {
        "id": "cNduD3YK3svK"
      }
    },
    {
      "cell_type": "code",
      "source": [
        "MLP3 = nn.Sequential(nn.Linear(784, 250),\n",
        "                           nn.ReLU(),\n",
        "                           nn.Dropout(0.1),\n",
        "                           nn.Linear(250, 100),\n",
        "                           nn.ReLU(),\n",
        "                           nn.Dropout(0.1),\n",
        "                           nn.Linear(100, 10),\n",
        "                           nn.LogSoftmax(dim=1)\n",
        "                           )\n",
        "criterion = nn.CrossEntropyLoss()\n",
        "optimizer = torch.optim.Adam(MLP3.parameters(), lr = 0.0001)\n",
        "results = run_model(MLP3 , optimizer ,10)\n"
      ],
      "metadata": {
        "colab": {
          "base_uri": "https://localhost:8080/"
        },
        "id": "z1fcIvAB2iue",
        "outputId": "09443b5a-f02c-4cc6-b193-457e2ea39a87"
      },
      "execution_count": 94,
      "outputs": [
        {
          "output_type": "stream",
          "name": "stdout",
          "text": [
            "Epoch: 1/10.. Training loss: 0.756.. Test loss: 0.497.. Test Accuracy: 0.827\n",
            "Epoch: 2/10.. Training loss: 0.488.. Test loss: 0.431.. Test Accuracy: 0.848\n",
            "Epoch: 3/10.. Training loss: 0.434.. Test loss: 0.390.. Test Accuracy: 0.862\n",
            "Epoch: 4/10.. Training loss: 0.400.. Test loss: 0.367.. Test Accuracy: 0.869\n",
            "Epoch: 5/10.. Training loss: 0.378.. Test loss: 0.355.. Test Accuracy: 0.872\n",
            "Epoch: 6/10.. Training loss: 0.360.. Test loss: 0.337.. Test Accuracy: 0.878\n",
            "Epoch: 7/10.. Training loss: 0.344.. Test loss: 0.318.. Test Accuracy: 0.885\n",
            "Epoch: 8/10.. Training loss: 0.331.. Test loss: 0.301.. Test Accuracy: 0.891\n",
            "Epoch: 9/10.. Training loss: 0.318.. Test loss: 0.299.. Test Accuracy: 0.891\n",
            "Epoch: 10/10.. Training loss: 0.308.. Test loss: 0.283.. Test Accuracy: 0.897\n"
          ]
        }
      ]
    },
    {
      "cell_type": "code",
      "source": [
        "plt.plot(results[0], label = \"Training loss\")\n",
        "plt.plot(results[1], label = \"Validation loss\")\n",
        "plt.legend(frameon = False)"
      ],
      "metadata": {
        "colab": {
          "base_uri": "https://localhost:8080/",
          "height": 282
        },
        "id": "jYQpZQ9M373g",
        "outputId": "007aa18e-afad-43ee-c8e3-8baa0d940e4b"
      },
      "execution_count": 95,
      "outputs": [
        {
          "output_type": "execute_result",
          "data": {
            "text/plain": [
              "<matplotlib.legend.Legend at 0x7f190261ddc0>"
            ]
          },
          "metadata": {},
          "execution_count": 95
        },
        {
          "output_type": "display_data",
          "data": {
            "text/plain": [
              "<Figure size 432x288 with 1 Axes>"
            ],
            "image/png": "[encoded data removed]"
          },
          "metadata": {
            "needs_background": "light"
          }
        }
      ]
    },
    {
      "cell_type": "markdown",
      "source": [
        "در مدل بدون دراپ اوت در اخر لاس ترین و تست بهم رسیدن در صورتی که قبل تر ازهم دور بودن و در مدل دراپ اوت دار اینا از هم دورن و مطمئنیم اپک کمی بیشتر هم باشه اورفیت نمیشه"
      ],
      "metadata": {
        "id": "qGc4iJEt65JJ"
      }
    },
    {
      "cell_type": "markdown",
      "source": [
        "early stoppingاستفاده از"
      ],
      "metadata": {
        "id": "KjGF-Dfg7d0a"
      }
    },
    {
      "cell_type": "code",
      "source": [
        "class EarlyStopper:\n",
        "  def __init__(self, patience=1, min_delta=0):\n",
        "      self.patience = patience\n",
        "      self.min_delta = min_delta\n",
        "      self.counter = 0\n",
        "      self.min_validation_loss = np.inf\n",
        "\n",
        "  def early_stop(self, validation_loss):\n",
        "      if validation_loss < self.min_validation_loss:\n",
        "          self.min_validation_loss = validation_loss\n",
        "          self.counter = 0\n",
        "      elif validation_loss > (self.min_validation_loss + self.min_delta):\n",
        "          self.counter += 1\n",
        "          if self.counter >= self.patience:\n",
        "              return True\n",
        "      return False"
      ],
      "metadata": {
        "id": "eV-eQlQ-7bAB"
      },
      "execution_count": 97,
      "outputs": []
    },
    {
      "cell_type": "code",
      "source": [
        "def run_model_early_stop(model, optimizer, epochs):\n",
        "  train_losses, valid_losses = [], []\n",
        "\n",
        "  early_stopper = EarlyStopper(3, 10)\n",
        "  for e in range(epochs):\n",
        "    running_loss = 0\n",
        "    for images, labels in train_loader:\n",
        "      images = images.view(images.shape[0], -1)\n",
        "      \n",
        "      optimizer.zero_grad()\n",
        "      \n",
        "      output = model.forward(images)\n",
        "      loss = criterion(output, labels)\n",
        "      loss.backward()\n",
        "      optimizer.step()\n",
        "      \n",
        "      running_loss += loss.item()\n",
        "    else:\n",
        "      valid_loss = 0\n",
        "      accuracy = 0\n",
        "      \n",
        "      with torch.no_grad():\n",
        "        model.eval()\n",
        "        \n",
        "        for images, labels in valid_loader:\n",
        "          images = images.view(images.shape[0], -1)\n",
        "          log_ps = model(images)\n",
        "          valid_loss += criterion(log_ps, labels)\n",
        "          \n",
        "          ps = torch.exp(log_ps)\n",
        "          top_p, top_class = ps.topk(1, dim = 1)\n",
        "          equals = top_class == labels.view(*top_class.shape)\n",
        "          accuracy += torch.mean(equals.type(torch.FloatTensor))\n",
        "      \n",
        "      model.train()\n",
        "      train_losses.append(running_loss/len(train_loader))\n",
        "      valid_losses.append(valid_loss/len(valid_loader))\n",
        "      if early_stopper.early_stop(valid_loss):\n",
        "        print(\"Early stop has been triggered!\")\n",
        "        break\n",
        "\n",
        "      \n",
        "      print(\"Epoch: {}/{}..\".format(e+1, epochs),\n",
        "            \"Training loss: {:.3f}..\".format(running_loss/len(train_loader)),\n",
        "            \"valid loss: {:.3f}..\".format(valid_loss/len(valid_loader)),\n",
        "            \"valid Accuracy: {:.3f}\".format(accuracy/len(valid_loader)))\n",
        "  return [train_losses, valid_losses]"
      ],
      "metadata": {
        "id": "RhWaOAfc7hm8"
      },
      "execution_count": 98,
      "outputs": []
    },
    {
      "cell_type": "code",
      "source": [
        "early_results = run_model_early_stop(MLP3, optimizer, 20)"
      ],
      "metadata": {
        "colab": {
          "base_uri": "https://localhost:8080/"
        },
        "id": "wouBGQGe7kZq",
        "outputId": "3a81cda6-2aaf-4f66-f76d-87c610d75969"
      },
      "execution_count": 105,
      "outputs": [
        {
          "output_type": "stream",
          "name": "stdout",
          "text": [
            "Epoch: 1/20.. Training loss: 0.309.. valid loss: 0.284.. valid Accuracy: 0.896\n",
            "Epoch: 2/20.. Training loss: 0.301.. valid loss: 0.278.. valid Accuracy: 0.898\n",
            "Epoch: 3/20.. Training loss: 0.292.. valid loss: 0.267.. valid Accuracy: 0.902\n",
            "Epoch: 4/20.. Training loss: 0.283.. valid loss: 0.259.. valid Accuracy: 0.906\n",
            "Epoch: 5/20.. Training loss: 0.275.. valid loss: 0.259.. valid Accuracy: 0.905\n",
            "Epoch: 6/20.. Training loss: 0.268.. valid loss: 0.245.. valid Accuracy: 0.910\n",
            "Epoch: 7/20.. Training loss: 0.264.. valid loss: 0.243.. valid Accuracy: 0.911\n",
            "Epoch: 8/20.. Training loss: 0.256.. valid loss: 0.236.. valid Accuracy: 0.914\n",
            "Epoch: 9/20.. Training loss: 0.250.. valid loss: 0.227.. valid Accuracy: 0.916\n",
            "Epoch: 10/20.. Training loss: 0.246.. valid loss: 0.222.. valid Accuracy: 0.919\n",
            "Epoch: 11/20.. Training loss: 0.240.. valid loss: 0.217.. valid Accuracy: 0.922\n",
            "Epoch: 12/20.. Training loss: 0.232.. valid loss: 0.211.. valid Accuracy: 0.923\n",
            "Epoch: 13/20.. Training loss: 0.231.. valid loss: 0.203.. valid Accuracy: 0.925\n",
            "Epoch: 14/20.. Training loss: 0.225.. valid loss: 0.201.. valid Accuracy: 0.927\n",
            "Epoch: 15/20.. Training loss: 0.221.. valid loss: 0.195.. valid Accuracy: 0.928\n",
            "Epoch: 16/20.. Training loss: 0.216.. valid loss: 0.194.. valid Accuracy: 0.930\n",
            "Epoch: 17/20.. Training loss: 0.211.. valid loss: 0.187.. valid Accuracy: 0.933\n",
            "Epoch: 18/20.. Training loss: 0.207.. valid loss: 0.178.. valid Accuracy: 0.936\n",
            "Epoch: 19/20.. Training loss: 0.203.. valid loss: 0.178.. valid Accuracy: 0.936\n",
            "Epoch: 20/20.. Training loss: 0.201.. valid loss: 0.178.. valid Accuracy: 0.936\n"
          ]
        }
      ]
    },
    {
      "cell_type": "code",
      "source": [
        "plt.plot(early_results[0], label = \"Training loss with early stopping\")\n",
        "plt.plot(early_results[1], label = \"Validation loss with early stopping\")\n",
        "plt.legend(frameon = False)"
      ],
      "metadata": {
        "colab": {
          "base_uri": "https://localhost:8080/",
          "height": 282
        },
        "id": "okk31pzo7z9E",
        "outputId": "0301d9ef-a402-46a8-fec2-ed09968c90b3"
      },
      "execution_count": 106,
      "outputs": [
        {
          "output_type": "execute_result",
          "data": {
            "text/plain": [
              "<matplotlib.legend.Legend at 0x7f18fffe6100>"
            ]
          },
          "metadata": {},
          "execution_count": 106
        },
        {
          "output_type": "display_data",
          "data": {
            "text/plain": [
              "<Figure size 432x288 with 1 Axes>"
            ],
            "image/png": "[encoded data removed]"
          },
          "metadata": {
            "needs_background": "light"
          }
        }
      ]
    },
    {
      "cell_type": "markdown",
      "source": [
        "نرمال‌سازی دسته‌ای: نرمال‌سازی دسته‌ای تکنیکی برای آموزش شبکه‌های عصبی بسیار عمیق است که ورودی‌های یک لایه را برای هر مینی بچ استاندارد می‌کند. این امر باعث تثبیت فرآیند یادگیری و کاهش چشمگیر تعداد دوره های آموزشی مورد نیاز برای آموزش شبکه های عمیق می شود."
      ],
      "metadata": {
        "id": "WfeGsvbC9fzz"
      }
    },
    {
      "cell_type": "code",
      "source": [
        "MLP_batch = nn.Sequential(nn.Linear(784, 250),\n",
        "                           nn.ReLU(),\n",
        "                           nn.Dropout(0.1),\n",
        "                           nn.BatchNorm1d(250),\n",
        "                           nn.Linear(250, 100),\n",
        "                           nn.ReLU(),\n",
        "                           nn.Dropout(0.1),\n",
        "                           nn.BatchNorm1d(100),\n",
        "                           nn.Linear(100, 10),\n",
        "                           nn.LogSoftmax(dim=1))\n",
        "batch_optimizer = optim.Adam(MLP_batch.parameters(), lr= 0.00001)\n",
        "batch_results = run_model(MLP_batch, batch_optimizer, 20)"
      ],
      "metadata": {
        "colab": {
          "base_uri": "https://localhost:8080/"
        },
        "id": "vxx4Yw_L8UWf",
        "outputId": "e30448ef-105e-4a49-dfb7-aefec3638560"
      },
      "execution_count": 116,
      "outputs": [
        {
          "output_type": "stream",
          "name": "stdout",
          "text": [
            "Epoch: 1/20.. Training loss: 1.148.. Test loss: 0.760.. Test Accuracy: 0.792\n",
            "Epoch: 2/20.. Training loss: 0.743.. Test loss: 0.587.. Test Accuracy: 0.829\n",
            "Epoch: 3/20.. Training loss: 0.624.. Test loss: 0.503.. Test Accuracy: 0.845\n",
            "Epoch: 4/20.. Training loss: 0.559.. Test loss: 0.461.. Test Accuracy: 0.853\n",
            "Epoch: 5/20.. Training loss: 0.517.. Test loss: 0.429.. Test Accuracy: 0.859\n",
            "Epoch: 6/20.. Training loss: 0.485.. Test loss: 0.404.. Test Accuracy: 0.866\n",
            "Epoch: 7/20.. Training loss: 0.466.. Test loss: 0.386.. Test Accuracy: 0.871\n",
            "Epoch: 8/20.. Training loss: 0.449.. Test loss: 0.371.. Test Accuracy: 0.874\n",
            "Epoch: 9/20.. Training loss: 0.431.. Test loss: 0.360.. Test Accuracy: 0.877\n",
            "Epoch: 10/20.. Training loss: 0.418.. Test loss: 0.349.. Test Accuracy: 0.880\n",
            "Epoch: 11/20.. Training loss: 0.410.. Test loss: 0.342.. Test Accuracy: 0.881\n",
            "Epoch: 12/20.. Training loss: 0.397.. Test loss: 0.331.. Test Accuracy: 0.885\n",
            "Epoch: 13/20.. Training loss: 0.390.. Test loss: 0.322.. Test Accuracy: 0.888\n",
            "Epoch: 14/20.. Training loss: 0.382.. Test loss: 0.315.. Test Accuracy: 0.891\n",
            "Epoch: 15/20.. Training loss: 0.373.. Test loss: 0.305.. Test Accuracy: 0.893\n",
            "Epoch: 16/20.. Training loss: 0.367.. Test loss: 0.301.. Test Accuracy: 0.895\n",
            "Epoch: 17/20.. Training loss: 0.360.. Test loss: 0.294.. Test Accuracy: 0.897\n",
            "Epoch: 18/20.. Training loss: 0.355.. Test loss: 0.294.. Test Accuracy: 0.895\n",
            "Epoch: 19/20.. Training loss: 0.349.. Test loss: 0.285.. Test Accuracy: 0.900\n",
            "Epoch: 20/20.. Training loss: 0.342.. Test loss: 0.279.. Test Accuracy: 0.901\n"
          ]
        }
      ]
    },
    {
      "cell_type": "code",
      "source": [
        "plt.plot(batch_results[0], label = \"Training loss with batch normalization\")\n",
        "plt.plot(batch_results[1], label = \"Validation loss with batch normalization\")\n",
        "plt.legend(frameon = False)"
      ],
      "metadata": {
        "colab": {
          "base_uri": "https://localhost:8080/",
          "height": 282
        },
        "id": "VUs0nFs6-UcQ",
        "outputId": "c12a6b5b-276f-4566-c80c-3916f23b3ca0"
      },
      "execution_count": 117,
      "outputs": [
        {
          "output_type": "execute_result",
          "data": {
            "text/plain": [
              "<matplotlib.legend.Legend at 0x7f1900757a30>"
            ]
          },
          "metadata": {},
          "execution_count": 117
        },
        {
          "output_type": "display_data",
          "data": {
            "text/plain": [
              "<Figure size 432x288 with 1 Axes>"
            ],
            "image/png": "[encoded data removed]"
          },
          "metadata": {
            "needs_background": "light"
          }
        }
      ]
    },
    {
      "cell_type": "markdown",
      "source": [
        "روی داده ی تست هم دقت را محاسبه میکنیم"
      ],
      "metadata": {
        "id": "R5ztvUjl-wMP"
      }
    },
    {
      "cell_type": "code",
      "source": [
        "def run_model_testset(model, optimizer, epochs):\n",
        "  train_losses, test_losses = [], []\n",
        "\n",
        "  for e in range(epochs):\n",
        "    running_loss = 0\n",
        "    for images, labels in train_loader:\n",
        "      images = images.view(images.shape[0], -1)\n",
        "      \n",
        "      optimizer.zero_grad()\n",
        "      \n",
        "      output = model.forward(images)\n",
        "      loss = criterion(output, labels)\n",
        "      loss.backward()\n",
        "      optimizer.step()\n",
        "      \n",
        "      running_loss += loss.item()\n",
        "    else:\n",
        "      test_loss = 0\n",
        "      accuracy = 0\n",
        "      \n",
        "      with torch.no_grad():\n",
        "        model.eval()\n",
        "        \n",
        "        for images, labels in test_loader:\n",
        "          images = images.view(images.shape[0], -1)\n",
        "          log_ps = model(images)\n",
        "          test_loss += criterion(log_ps, labels)\n",
        "          \n",
        "          ps = torch.exp(log_ps)\n",
        "          top_p, top_class = ps.topk(1, dim = 1)\n",
        "          equals = top_class == labels.view(*top_class.shape)\n",
        "          accuracy += torch.mean(equals.type(torch.FloatTensor))\n",
        "      \n",
        "      model.train()\n",
        "      train_losses.append(running_loss/len(train_loader))\n",
        "      test_losses.append(test_loss/len(test_loader))\n",
        "      \n",
        "      print(\"Epoch: {}/{}..\".format(e+1, epochs),\n",
        "            \"Training loss: {:.3f}..\".format(running_loss/len(train_loader)),\n",
        "            \"Test loss: {:.3f}..\".format(test_loss/len(test_loader)),\n",
        "            \"Test Accuracy: {:.3f}\".format(accuracy/len(test_loader)))\n",
        "  return [train_losses, test_losses]"
      ],
      "metadata": {
        "id": "CRxcoSFP-2aG"
      },
      "execution_count": 118,
      "outputs": []
    },
    {
      "cell_type": "code",
      "source": [
        "batch_results = run_model_testset(MLP_batch, batch_optimizer, 20)"
      ],
      "metadata": {
        "colab": {
          "base_uri": "https://localhost:8080/"
        },
        "id": "_OkccL68_HKn",
        "outputId": "89213940-ca1f-4ff2-a2a2-6d1bd0ff0085"
      },
      "execution_count": 119,
      "outputs": [
        {
          "output_type": "stream",
          "name": "stdout",
          "text": [
            "Epoch: 1/20.. Training loss: 0.339.. Test loss: 0.287.. Test Accuracy: 0.898\n",
            "Epoch: 2/20.. Training loss: 0.333.. Test loss: 0.284.. Test Accuracy: 0.900\n",
            "Epoch: 3/20.. Training loss: 0.330.. Test loss: 0.279.. Test Accuracy: 0.901\n",
            "Epoch: 4/20.. Training loss: 0.324.. Test loss: 0.276.. Test Accuracy: 0.902\n",
            "Epoch: 5/20.. Training loss: 0.318.. Test loss: 0.271.. Test Accuracy: 0.903\n",
            "Epoch: 6/20.. Training loss: 0.315.. Test loss: 0.269.. Test Accuracy: 0.904\n",
            "Epoch: 7/20.. Training loss: 0.313.. Test loss: 0.265.. Test Accuracy: 0.905\n",
            "Epoch: 8/20.. Training loss: 0.308.. Test loss: 0.263.. Test Accuracy: 0.907\n",
            "Epoch: 9/20.. Training loss: 0.304.. Test loss: 0.260.. Test Accuracy: 0.907\n",
            "Epoch: 10/20.. Training loss: 0.304.. Test loss: 0.257.. Test Accuracy: 0.908\n",
            "Epoch: 11/20.. Training loss: 0.297.. Test loss: 0.255.. Test Accuracy: 0.909\n",
            "Epoch: 12/20.. Training loss: 0.297.. Test loss: 0.251.. Test Accuracy: 0.911\n",
            "Epoch: 13/20.. Training loss: 0.291.. Test loss: 0.249.. Test Accuracy: 0.911\n",
            "Epoch: 14/20.. Training loss: 0.289.. Test loss: 0.249.. Test Accuracy: 0.911\n",
            "Epoch: 15/20.. Training loss: 0.286.. Test loss: 0.244.. Test Accuracy: 0.914\n",
            "Epoch: 16/20.. Training loss: 0.281.. Test loss: 0.243.. Test Accuracy: 0.913\n",
            "Epoch: 17/20.. Training loss: 0.279.. Test loss: 0.240.. Test Accuracy: 0.915\n",
            "Epoch: 18/20.. Training loss: 0.277.. Test loss: 0.237.. Test Accuracy: 0.916\n",
            "Epoch: 19/20.. Training loss: 0.272.. Test loss: 0.238.. Test Accuracy: 0.917\n",
            "Epoch: 20/20.. Training loss: 0.272.. Test loss: 0.236.. Test Accuracy: 0.917\n"
          ]
        }
      ]
    },
    {
      "cell_type": "code",
      "source": [
        "plt.plot(batch_results[0], label = \"Training loss with batch normalization\")\n",
        "plt.plot(batch_results[1], label = \"Validation loss with batch normalization\")\n",
        "plt.legend(frameon = False)"
      ],
      "metadata": {
        "colab": {
          "base_uri": "https://localhost:8080/",
          "height": 282
        },
        "id": "PgGry7rsBWah",
        "outputId": "8f70aa43-c8ac-4c3a-f941-12d1cdb9a39b"
      },
      "execution_count": 120,
      "outputs": [
        {
          "output_type": "execute_result",
          "data": {
            "text/plain": [
              "<matplotlib.legend.Legend at 0x7f19026df700>"
            ]
          },
          "metadata": {},
          "execution_count": 120
        },
        {
          "output_type": "display_data",
          "data": {
            "text/plain": [
              "<Figure size 432x288 with 1 Axes>"
            ],
            "image/png": "[encoded data removed]"
          },
          "metadata": {
            "needs_background": "light"
          }
        }
      ]
    },
    {
      "cell_type": "code",
      "source": [],
      "metadata": {
        "id": "Loy2OFnoDKaM"
      },
      "execution_count": null,
      "outputs": []
    }
  ]
}